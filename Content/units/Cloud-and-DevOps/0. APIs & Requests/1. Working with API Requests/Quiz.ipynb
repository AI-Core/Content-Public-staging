{
 "cells": [
  {
   "attachments": {},
   "cell_type": "markdown",
   "metadata": {},
   "source": [
    "# Working with API Requests"
   ]
  },
  {
   "attachments": {},
   "cell_type": "markdown",
   "metadata": {},
   "source": [
    "## Which of the following are common types of HTTP header? Select all that apply\n",
    "\n",
    "- Content-type ***\n",
    "- Priority\n",
    "- Authorisation ***\n",
    "- Autocomplete\n",
    "- Accept ***"
   ]
  },
  {
   "attachments": {},
   "cell_type": "markdown",
   "metadata": {},
   "source": [
    "## Which of the following best describes what API keys are?\n",
    "\n",
    "- A type of encryption used for securing network communications\n",
    "- Unique identifiers used to authenticate a user, program, or device during API interactions. ***\n",
    "- Programming tools for developing APIs quickly\n",
    "- The main components of an API that define its overall structure\n",
    "- A specific method for creating APIs in Python"
   ]
  },
  {
   "attachments": {},
   "cell_type": "markdown",
   "metadata": {},
   "source": [
    "## Which of the following are types of authentication mechanism? Select all that apply\n",
    "\n",
    "- Bearer Token Authentication ***\n",
    "- OAuth 2.0 ***\n",
    "- Zcheck \n",
    "- Polynomial Block Lookup\n",
    "- JSON Web Tokens ***\n"
   ]
  },
  {
   "attachments": {},
   "cell_type": "markdown",
   "metadata": {},
   "source": [
    "## Which of the following best describes what Cross-Origin Resource Sharing (CORS) is?\n",
    "\n",
    "- A security measure that allows web applications to make requests to another domain than the one it originated from ***\n",
    "- A technique to enhance website loading speed by storing data in a browser's cache\n",
    "- A system to reduce the number of requests to an API by looking for similar requests from multiple users and sending them the same result\n",
    "- An API specification that allows for sharing of resources across different programming languages"
   ]
  }
 ],
 "metadata": {
  "language_info": {
   "name": "python"
  },
  "orig_nbformat": 4
 },
 "nbformat": 4,
 "nbformat_minor": 2
}
