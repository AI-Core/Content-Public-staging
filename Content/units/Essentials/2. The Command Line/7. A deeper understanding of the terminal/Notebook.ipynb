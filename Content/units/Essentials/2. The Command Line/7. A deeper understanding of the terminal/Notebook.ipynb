{
 "cells": [
  {
   "attachments": {},
   "cell_type": "markdown",
   "metadata": {},
   "source": [
    "# A Deeper Understanding of the Command Line\n",
    "\n",
    "In the previous lessons we have gained an understanding of what the command line is, and how to use it to manipulate and edit files. In this lesson we will look at some of the more advanced features. Mastering these additional features can dramatically increase your efficiency and productivity in using the terminal."
   ]
  },
  {
   "attachments": {},
   "cell_type": "markdown",
   "metadata": {},
   "source": [
    "## Motivation"
   ]
  },
  {
   "attachments": {},
   "cell_type": "markdown",
   "metadata": {},
   "source": [
    "## Terminal Shortcuts\n",
    "\n",
    "You can become much faster at entering commands into the terminal by using the following keyboard shortcuts:\n",
    "\n",
    "- `Up arrow ` : Scroll back through the history of the commands you have run. `Ctrl P` does the same.\n",
    "- `Down arrow` : Scroll forward through the command history. `Ctrl + N` has the same effect\n",
    "- `Left arrow` and `right arrow` or `CTRL + B` and `CTRL + F` : move left and right on a current line\n",
    "- `TAB` : attempts to autocomplete the current command. If you use cd and hit `TAB`, available directories will pop up\n",
    "- `Ctrl + C` : Breaks out of a command or process that is currently running on the terminal\n",
    "- `Ctrl + Z` : Suspends a program that is running in the terminal and returns you control of the shell. It will not terminate, but will remain in a list of background processes which can be reactivated at a later date.\n",
    "- `Ctrl + L` : Clears the terminal screen. Equivalent to typing `clear`\n",
    "\n",
    "\n"
   ]
  },
  {
   "attachments": {},
   "cell_type": "markdown",
   "metadata": {},
   "source": [
    "## Login Scripts and Customising the Terminal\n",
    "\n",
    "> Login scripts are used to customise your environment when logging in or opening a terminal on a unix or linux machine. You can use them to run commands that you wish to run every time you open a terminal window.  The login script runs every time you open a new instance of the shell. It is a hidden configuration file located in the user's home directory (`~/.bashrc` for Bash or `~/.zshrc` for Zsh).\n",
    "\n",
    "To edit your login script, simply use the command:\n",
    "\n",
    "```bash\n",
    "nano ~/.bashrc\n",
    "```\n",
    "\n",
    "Make your changes, and then save the results.\n",
    "\n",
    "This script can contain various types of instructions, some examples of which are detailed below:\n",
    "\n",
    "### Defining or Modifying Environment Variables\n",
    "\n",
    "Environment variables modify the behaviour of different programs. They provide a simple way to share configuration settings between multiple applications and processes in an operating system.\n",
    "\n",
    "An example of an environment variable which you might need to define inside your login script is the `$PATH` variable,which determines the directories in which the shell looks for executable files. \n",
    "\n",
    "You can view your environment variable in the terminal window using the command `echo $PATH`.\n",
    "\n",
    "<p align=\"center\">\n",
    "    <img src=\"images/echo_path.gif\"  width=\"500\"/>\n",
    "</p>\n",
    "\n",
    "You will see a series of directories that contain the different programs you tend to run, separated by colons. \n",
    "\n",
    "As an example, to add a new directory `/location/of/the/file` to your `$PATH` variable, you can use:\n",
    "\n",
    "```bash\n",
    "`export PATH=$PATH:/location/of/the/file`\n",
    "```\n",
    "\n",
    "Adding this line to your `~/.bashrc` or `~/.zshrc` file will make sure that the relevant path is always available when you start a terminal window.\n",
    "\n",
    "\n",
    "\n"
   ]
  },
  {
   "attachments": {},
   "cell_type": "markdown",
   "metadata": {},
   "source": [
    "### Setting the command prompt appearance via the `PS1` variable\n",
    "\n",
    "> The `PS1` environment variable in a Unix-like shell defines the layout and style of the command prompt. It can include special escape sequences that insert various pieces of data (like the current user, the hostname, or the current directory), and it can also include color codes to add some visual flair.\n",
    "\n",
    "Here's a simple example of how to change your prompt in Bash:\n",
    "\n",
    "```bash\n",
    "export PS1=\"\\u@\\h:\\w\\$ \"\n",
    "```\n",
    "\n",
    "After running this command, your prompt will show your username, followed by an at sign (`@`), the hostname, a colon (`:`), the current working directory (`\\w`), and a dollar sign (`$`). This [link](https://www.gnu.org/software/bash/manual/html_node/Controlling-the-Prompt.html) contains a list of the available special characters you can use.\n",
    "\n",
    "You can also change the prompt string colours by inserting the ANSI escape sequence `\\[\\033[XX;YYm\\]`, where `XX` corresponds to the numeric value of the text style, and `YY` corresponds to the colour code.\n",
    "\n",
    "For example:\n",
    "\n",
    "```bash\n",
    "export PS1=\"\\[\\033[01;32m\\]\\u@\\h\\[\\033[00m\\]:\\[\\033[01;34m\\]\\w\\[\\033[00m\\]\\$ \"\n",
    "```\n",
    "Would change your username and hostname to bright green (`01;32`) , and your current directory to bright blue (`01;34`). The `\\[\\033[00m\\]` sequence resets the prompt colour back to default.\n",
    "\n",
    "**NOTE:** the above example is specifically for Bash terminals. The procedure is different for zsh terminals, which use the `PROMPT` variable instead, and the syntax is different. You can use this handy [generator](https://zsh-prompt-generator.site/) to see how different features can be added to your prompt, and you can read a full list of the possible escape characters in the [docs](https://zsh-manual.netlify.app/prompt-expansion).\n"
   ]
  },
  {
   "attachments": {},
   "cell_type": "markdown",
   "metadata": {},
   "source": [
    "\n",
    "### Aliases\n",
    "\n",
    "> *Aliases* are shortcuts or abbreviations for a command or a series of commands. They are useful for creating custom commands, simplifying complex commands, or automating repetitive tasks.\n",
    "\n",
    "You define an alias with the `alias` command followed by the name of the alias you want to create, and then the command or commands you want that alias to execute.\n",
    "\n",
    "```bash\n",
    "alias NAME_OF_ALIAS='COMMAND'\n",
    "```\n",
    "\n",
    "As an example, the command `ls` usually only reveals non-hidden files. You can modify it to list the hidden files as well using the `-a` flag. You can use the `alias` command to change the behaviour of `ls` so that it lists hidden files by default, using the following code:\n",
    "\n",
    "```bash\n",
    "alias ls=\"ls -a\"\n",
    "```\n",
    "Alternatively you can create a shortcut for a complex command. For example, if you wanted to quickly create a backup of an important file on a regular basis, you could use the following commmand:\n",
    "\n",
    "```bash \n",
    "alias backup=\"cp ~/importantfile.txt ~/backup/ && echo 'Backup successful'\"\n",
    "```\n",
    "This would copy the file `~/importantfile.txt` to the directory `~/backup/` and then print the string `Backup successful` to the terminal.\n",
    "\n",
    "Aliases only persist for the terminal session you are in, so to have access to them on every session, you can add them to your login script."
   ]
  },
  {
   "attachments": {},
   "cell_type": "markdown",
   "metadata": {},
   "source": [
    "## Advanced Shell Commands"
   ]
  },
  {
   "attachments": {},
   "cell_type": "markdown",
   "metadata": {},
   "source": [
    "\n",
    "\n",
    "### Modifying Standard Streams\n",
    "\n",
    "Standard streams are pre-connected input and output communication channels between a computer program and its environment. In Unix and Unix-like operating systems, there are three standard streams:\n",
    "\n",
    "**Standard Input (stdin)**: This is the stream from which a program reads its input. By default, this is the keyboard.\n",
    "\n",
    "**Standard Output (stdout)**: This is the stream to which a program writes its output data. By default, this is the computer's screen.\n",
    "\n",
    "**Standard Error (stderr)**: This is another output stream typically used by programs to output error messages or diagnostics. It is also displayed on the computer's screen by default.\n",
    "\n",
    "Windows Powershell also has the above streams, but has various additional streams for things like debugger outputs and progress bars.\n",
    "\n",
    "Standard streams can be modified by various operators. We have already met the `>` operator, which redirects the standard output stream of a program to a file. There are numerous other operators in Unix systems, including:\n",
    "\n",
    "- `<` - This operator redirects a file to standard input. For instance, if you have a program that takes input from the user, you could use `<` to feed it a file of input data.\n",
    "- `2>` -  This operator redirects the standard error (stderr) to a file, replacing the current contents of the file. It works similarly to `>`, but with error messages instead of standard output.\n",
    "- `<<<`: This operator, known as a here string, is used to redirect a string of text into the standard input of a command. \n",
    "For example, `wc -l <<< \"Hello world\"` will count the number of lines in the string `\"Hello world\"`.\n",
    "\n",
    "### The Pipe `|` Operator\n",
    "\n",
    "The pipe operator (`|`) is another operator that modifies the standard stream. In this case it is used to route stdout of one command to the stdin of another. This is a powerful and versatile feature, as it allows you to compose chains of commands, each of which modify the output of another. \n",
    "\n",
    "For example, let's say you have a log file, and you want to count the number of times the phrase 'Error 404' appears in it. \n",
    "\n",
    "### "
   ]
  },
  {
   "attachments": {},
   "cell_type": "markdown",
   "metadata": {},
   "source": []
  }
 ],
 "metadata": {
  "language_info": {
   "name": "python"
  }
 },
 "nbformat": 4,
 "nbformat_minor": 2
}
