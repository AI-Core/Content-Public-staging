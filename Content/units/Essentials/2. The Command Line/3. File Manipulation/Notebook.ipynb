{
 "cells": [
  {
   "attachments": {},
   "cell_type": "markdown",
   "metadata": {},
   "source": [
    "# File Manipulation "
   ]
  },
  {
   "attachments": {},
   "cell_type": "markdown",
   "metadata": {},
   "source": [
    "The Terminal can be used to view, create and delete files and folders, as well as moving their location."
   ]
  },
  {
   "attachments": {},
   "cell_type": "markdown",
   "metadata": {},
   "source": [
    "## Motivations\n",
    "\n",
    "Why would you want to learn about manipulating files in the command line? \n",
    "\n",
    "- It will allow you to quickly navigate around the directory structure on your computer\n",
    "- You will get a deeper understanding of how files are organised on your computer\n",
    "- Files and directories are often quicker and easier to create using the command line\n",
    "- Copying files from one location to another is more precise and less error-prone with the command line\n",
    "- It is easier to automate the process of file creation, moving and deletion with the command line"
   ]
  },
  {
   "attachments": {},
   "cell_type": "markdown",
   "metadata": {},
   "source": [
    "## File Paths\n",
    "\n",
    "The term *file path* refers to the specific location of a file or a directory in the file system. It provides a way to navigate through the hierarchical structure of a computer's file system. Here is an example of a file path:\n",
    "\n",
    "`/home/user/documents/my_textfile.txt`\n",
    "\n",
    "It is compoosed of the following components:\n",
    "\n",
    "### 1. Root Directory\n",
    "In Unix-like systems, this is typically represented by a forward slash (`/`). In Windows, it's typically represented by a drive letter followed by a colon and a backslash, eg. `C:\\`.\n",
    "\n",
    "### 2. Directories and Subdirectories\n",
    "These are the folders within the file system. Each folder is separated by a slash (`/`) in Unix-like systems or a backslash (`\\`) in Windows. In general, the term *parent directory* or `parent folder` is used to mean the directory above the current directory, and *child directory* or *subdirectory* are used to describe a folder inside the current folder. A set of folders inside each other are said to be *nested*.\n",
    "For example, in `/home/user/documents`, `home`, `user`, and `documents` are directories, each nested inside the previous one. `home` is the parent of `user`, and `documents` is the child of `user`.\n",
    "\n",
    "### 3. File Name\n",
    "This is the name of the file at the end of the file path. For instance, in `/home/user/documents/my_textfile.txt`, `file.txt` is the file name.\n",
    "\n",
    "### 4.File Extension\n",
    "This is the part of the file name after the last dot, which typically indicates the file type. In `my_textfile.txt`, `txt` is the file extension, in this case indicating that it's a text file.\n",
    "\n",
    "\n",
    "### The `~` Shortcut\n",
    "In Unix-like operating systems, the tilde (`~`) character is a shortcut that represents the home directory of the current user. This is usually a directory named after the user under the `/home` directory in Linux, or in `/Users` on a Mac.\n",
    "\n",
    "For instance, if you have a user named `user1`, typing `cd ~` or simply `cd` will change the working directory to `/home/user1`.\n",
    "\n",
    "You can also access other users' home directories using the tilde as well. If you have a user named `user2`, `~user2` would refer to the home directory of `user2`.\n",
    "\n",
    "This usage of the tilde to represent the home directory is a feature provided by the shell, and not the underlying filesystem or operating system. This means that it might not be recognized in all contexts outside of a shell command line, such as in a programming language that interacts with the filesystem.\n",
    "\n",
    "### Handling Filepaths Containing Spaces\n",
    "\n",
    "[ Placeholder - say something about quotes, and reminder that spaces separate arguments in command line]"
   ]
  },
  {
   "attachments": {},
   "cell_type": "markdown",
   "metadata": {},
   "source": [
    "## Absolute and Relative Paths\n",
    "\n",
    "A file path can be either absolute or relative. An *absolute* path starts from the root directory and specifies the exact location of a file or directory. A *relative* path, on the other hand, starts from the current working directory. It uses `.` to represent the current directory, and `..` to represent the parent directory. You can also specify any child directory by just using its name.\n",
    "\n",
    "For example:\n",
    "\n",
    "- A directory might have the absolute path of `home/user/documents`\n",
    "- If your current directory is `/home/user`, the relative path to  \"documents\" would be `./documents` (or simply `documents`)\n",
    "- The relative path to \"home\" would be `..`\n",
    "\n"
   ]
  },
  {
   "attachments": {},
   "cell_type": "markdown",
   "metadata": {},
   "source": [
    "## Creating Files\n",
    "\n",
    "To create a file using the command line, we use the `touch` command, followed by the desired filename. This command is actually for updating the timestamp at which a file was last accessed or modified. It sets the timestamps to the current time, or to a specific time if one is provided as an argument. While that is its primary function, it is also a convenient way to create a new file, as if `touch` is asked to update the timestamp of a non-existent file, it solves the issue by creating the file!\n",
    "\n",
    "<p align=\"center\">\n",
    "    <img src=\"images/touch.gif\"  width=\"500\"/>\n",
    "</p>\n",
    "\n",
    "In Windows Powershell, the approximately equivalent command is `New-Item` (or its shorthand alias: `ni`), but note that it does not have quite the same behaviour as `touch`! If `touch` is called on a file that already exists, it will just update the timestamps of it. If `New-Item` is called on a file that already exists, it will return an error. There is no direct equivalent of `touch` in PowerShell. "
   ]
  },
  {
   "attachments": {},
   "cell_type": "markdown",
   "metadata": {},
   "source": [
    "## Creating Folders\n",
    "\n",
    "New folders can be created in Bash or Zsh using the `mkdir` command, followed by the folder name. You can even create multiple directories at once and set permissions for them. A useful feature of `mkdir` is the `-p` (parents) option, which allows you to create nested directories in a single command, automatically creating any parent directories as needed. For instance, `mkdir -p dir1/dir2/dir3` will create `dir1`, `dir2` inside `dir1`, and `dir3` inside `dir2`. Without the `-p` option, this command would fail if `dir1` or `dir2` did not already exist. As with any Unix command, you can find out more about the options for `mkdir` by typing `man mkdir`.\n",
    "\n",
    "<p align=\"center\">\n",
    "    <img src=\"images/mkdir.gif\"  width=\"500\"/>\n",
    "</p>\n",
    "\n",
    "To create a new directory in Windows Powershell, the command is again the `New-Item` command, this time with the `-ItemType` parameter set to `Directory` as follows:\n",
    "\n",
    "```Powershell\n",
    "new-item TestFolder1 -ItemType Directory\n",
    "```\n",
    "\n",
    "However, you can also use the shorthand alias `md` which calls `New-Item` with the `ItemType` flag already set for you, or use the `mkdir` alias."
   ]
  },
  {
   "attachments": {},
   "cell_type": "markdown",
   "metadata": {},
   "source": [
    "## Deleting Files and Folders\n",
    "\n",
    "\n",
    "### Unix-Based CLI\n",
    "In a Bash / Zsh CLI, you can delete files and folders using the `rm` command, followed by the name of the file eg:\n",
    "\n",
    "`rm -r my_file.txt`\n",
    "\n",
    "However this will not work for directories. If you are trying to delete a directory (even an empty one), then you will need to use the `-r` or `-R` option with `rm`. The `-r` here stands for `recursive`, in the sense that it will perform the `rm` operation for each item inside the directory structure you point it to.\n",
    "\n",
    "<p align=\"center\">\n",
    "    <img src=\"images/rm_r.gif\"  width=\"500\"/>\n",
    "</p>\n",
    "\n",
    "If a directory is empty you can also remove it with the `rmdir` command. This command will only work if the folder is completely empty. If the folder contains any files or subdirectories, the `rmdir` command will fail with a message saying \"Directory not empty\".\n",
    "\n",
    "### Take Care with the `rm` Command!\n",
    "A word of warning about deleting files inside a CLI. The Command Line is aimed at advanced users, who are assumed to know what they are doing! Unlike with an operating system's GUI, the files **do not** go to a `recycle bin` or similar. They are deleted permanently, and cannot be recovered without significant effort. There are some tools that might be able to recover your data, but this is well beyond the scope of normal command line function. \n",
    "\n",
    "With the command line, you have a considerable amount of power, but with that power comes a lot of responsibility. As an illustration, performing the command:\n",
    "\n",
    "`rm -r *` in the `root` directory of a Linux machine would wipe the entire directory structure! As we already know, `-r` gives `rm` the power to move recursively through the directory structure, and `*` is a *wildcard* character, which tells it to match *all* files that it finds.\n",
    "\n",
    "### Windows Powershell\n",
    "\n",
    "In PowerShell, the equivalent command to the Unix-based `rm` command is `Remove-Item`, or its shorter alias `ri`. The syntax is as follows:\n",
    "\n",
    "```powershell\n",
    "Remove-Item -Path path-to-item\n",
    "```\n",
    "So for example, to remove the file \"test.txt\" you would enter `Remove-Item -Path test.txt`.\n",
    "\n",
    "To delete a directory and its contents, you use the `-Recurse` parameter with the following syntax:\n",
    "```powershell\n",
    "Remove-Item -Path path-to-directory -Recurse\n",
    "```\n",
    "\n",
    "For the convenience of users familiar with Unix-like environments, PowerShell also provides `rm` as an alias to `Remove-Item`. So, you can use `rm` in PowerShell just as you would in a Unix-like shell, although to delete a directory you will still need to use `-Recurse` rather than `-r`"
   ]
  },
  {
   "attachments": {},
   "cell_type": "markdown",
   "metadata": {},
   "source": [
    "## Moving Files and Folders\n",
    "\n",
    "\n",
    "In Bash / Zsh, the commands for moving and copying files are `mv` (move) and `cp` (copy), respectively. The `mv` command is used to move or rename files and directories within the filesystem. The syntax for both is similar: the command,  then the path for the source location of the file you want to move and then the path for the destination location. For example:\n",
    "\n",
    "```bash\n",
    "mv parent_directory/folder_1/my_textfile.txt parent_directory/folder_2\n",
    "```\n",
    "\n",
    "would move the file `my_textfile.txt` from `folder_1` to `folder_2`, if called while in `parent_directory`. If in any other folder, the absolute path of both the source and destination would need to be used instead.\n",
    "\n",
    "<p align=\"center\">\n",
    "    <img src=\"images/mv_command.gif\"  width=\"500\"/>\n",
    "</p>\n",
    "\n",
    "You can also use `mv` to rename a file, by setting the destination as a new filename, providing that name does not already exist.\n",
    "If the destination is a filename that doesn't exist, it effectively renames the file. \n",
    "\n",
    "The `cp` command is used to make copies of files and directories. The basic usage is `cp source destination`, which creates a copy of the source file in the destination location. To copy directories, you must include the `-r`  option, which tells cp to copy the directories recursively, meaning that it includes all subdirectories and their contents. For instance, `cp -r source-dir destination-dir` will create a copy of the source directory and all its contents in the destination directory."
   ]
  },
  {
   "attachments": {},
   "cell_type": "markdown",
   "metadata": {},
   "source": [
    "## Locating Files\n",
    "\n",
    "You can find a file in Unix-based command line interfaces using the `find` command. For example, to search for a file called `myfile.txt` inside the `Documents` folder and its subdirectories, you would use the command:\n",
    "\n",
    "`find Documents -name myfile.txt`\n",
    "\n",
    "It will then return the correct path for the file of that name, provided that it exists.\n",
    "\n",
    "<p align=\"center\">\n",
    "    <img src=\"images/find_gif.gif\"  width=\"500\"/>\n",
    "</p>\n",
    "\n",
    "\n",
    "In PowerShell, the equivalent of the Unix find command is `Get-ChildItem`, which we have met before. The Get-ChildItem cmdlet gets the items and child items in one or more specified locations including its subdirectories.\n",
    "\n",
    "The syntax for using `Get-ChildItem` to search for a file is as follows:\n",
    "\n",
    "```powershell\n",
    "Get-ChildItem -Path path -Recurse -Filter filename\n",
    "```\n",
    "In this command, path is the directory you want to search in, and filename is the name of the file you're looking for.\n",
    "\n",
    "For instance, if you want to search for a file named `file.txt` in your `home` directory and all of its subdirectories, you would use:\n",
    "\n",
    "```powershell\n",
    "Get-ChildItem -Path ~ -Recurse -Filter file.txt\n",
    "```\n",
    "\n",
    "Note that `-Recurse` is used to search through all subdirectories of the specified path, and `-Filter` is used to specify the file name to search for. The `~` character represents the home directory,as previously discussed.\n",
    "\n",
    "The Powershell command `Get_ChildItem` is extremely versatile, and can do quite sophisticated things with the right options settings. See [here](https://devblogs.microsoft.com/scripting/use-windows-powershell-to-search-for-files/) for an example.\n",
    "\n",
    "Note that unlike some Unix commands we have discussed, `find` is not a default alias of `Get-ChildItem` in Powershell. The Powershell command `Find` has a different function."
   ]
  },
  {
   "attachments": {},
   "cell_type": "markdown",
   "metadata": {},
   "source": [
    "## Downloading Files from the Internet\n",
    "\n",
    "On Unix systems, the `curl` command is used to download files from the internet. It supports a wide range of protocols including HTTP, HTTPS, and FTP. To download a remote file to a local file, you can use `curl` with the `-O` option followed by the URL of the file you want to download.\n",
    "For example:\n",
    "\n",
    "`curl -O http://example.com/file.txt`\n",
    "\n",
    "will download the file `file.txt` from `example.com` and save it in the current directory. If you want to save the file with a different name, you can use the `-o`  option followed by the desired file name, like so:\n",
    "`curl -o newfile.txt http://example.com/file.txt`\n",
    " \n",
    "By default, curl only outputs the downloaded data to the terminal, so the `-O` or `-o` option is essential when you want to save the data to a file.\n",
    "\n",
    "In PowerShell, the equivalent to curl is `Invoke-WebRequest`. The syntax to replicate the example `curl` command given above would be:\n",
    "\n",
    "`Invoke-WebRequest -Uri http://example.com/file.txt -OutFile path\\to\\file.txt`\n",
    "\n",
    "- The `-Uri`  parameter specifies the URL of the file to download\n",
    "- The `-OutFile` parameter specifies the local path where the file will be saved\n",
    "- You can use the default alias `curl` instead of `Invoke-WebRequest`\n"
   ]
  },
  {
   "attachments": {},
   "cell_type": "markdown",
   "metadata": {},
   "source": [
    "## Viewing File Contents\n",
    "\n",
    "To view a text file's contents on a Unix system, you can use the `cat` command. The `cat` concatenates a list of files and prints them to the terminal, but `cat` can be used with just a single file, which then acts as a way to view it. \n",
    "\n",
    "<p align=\"center\">\n",
    "    <img src=\"images/cat.gif\"  width=\"500\"/>\n",
    "</p>"
   ]
  },
  {
   "attachments": {},
   "cell_type": "markdown",
   "metadata": {},
   "source": [
    "## Key Takeaways"
   ]
  }
 ],
 "metadata": {
  "language_info": {
   "name": "python"
  }
 },
 "nbformat": 4,
 "nbformat_minor": 2
}
